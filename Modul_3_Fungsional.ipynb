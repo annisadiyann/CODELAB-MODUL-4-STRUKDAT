{
  "cells": [
    {
      "cell_type": "markdown",
      "metadata": {
        "id": "view-in-github",
        "colab_type": "text"
      },
      "source": [
        "<a href=\"https://colab.research.google.com/github/annisadiyann/CODELAB-MODUL-4-STRUKDAT/blob/main/Modul_3_Fungsional.ipynb\" target=\"_parent\"><img src=\"https://colab.research.google.com/assets/colab-badge.svg\" alt=\"Open In Colab\"/></a>"
      ]
    },
    {
      "cell_type": "markdown",
      "metadata": {
        "id": "wSgpHUwiWqiY"
      },
      "source": [
        "# **Modul 3 Fungsional 2024**\n",
        "\n",
        "---\n",
        " Processing Sequence Data in Functional Programming"
      ]
    },
    {
      "cell_type": "markdown",
      "metadata": {
        "id": "zueRbQjpW1hS"
      },
      "source": [
        "Disusun oleh:\n",
        "1. Rafli Kharisma Akbar\n",
        "2. Alviya Laela Lestari\n",
        "\n",
        "Diaudit oleh:\n",
        "Fera Putri Ayu L., S.Kom., M.T.\n",
        "\n",
        "Presented by: TIM LAB-IT Universitas Muhammadiyah Malang"
      ]
    },
    {
      "cell_type": "markdown",
      "metadata": {
        "id": "PGdYh0JhW2Qp"
      },
      "source": [
        "# Tujuan Praktikum"
      ]
    },
    {
      "cell_type": "markdown",
      "metadata": {
        "id": "WHzCbip1XE__"
      },
      "source": [
        "<p align=\"justify\"> Sub-CPMK 7: Mahasiswa mampu mendesain program dengan teknik yang tepat untuk menyelesaikan masalah dengan menggunakan paradigma pemrograman fungsional (P6)"
      ]
    },
    {
      "cell_type": "markdown",
      "metadata": {
        "id": "6doUTD8bXLyh"
      },
      "source": [
        "# Target Modul"
      ]
    },
    {
      "cell_type": "markdown",
      "metadata": {
        "id": "mfQBbF6NXQJN"
      },
      "source": [
        "1. Praktikan mampu mengelola data berdasarkan proses yang tepat sebagai bentuk komputasi data dengan memanfaatkan teknik-teknik fungsional\n",
        "2. Praktikan diharap dapat memanfaatkan list comprehension guna membangun struktur data yang lebih efektif dan efisien"
      ]
    },
    {
      "cell_type": "markdown",
      "metadata": {
        "id": "r2XjD4e2MdNE"
      },
      "source": [
        "# **1. Teknik Pengolahan Data Sequence**"
      ]
    },
    {
      "cell_type": "markdown",
      "metadata": {
        "id": "tWIhT5fLMipB"
      },
      "source": [
        "<p align=\"justify\"> Dalam paradigma fungsional, program kita merupakan sebuah urutan transformasi data dari suatu bentuk ke bentuk yang lain. Mari kita lihat beberapa contoh implementasi nyata tentang cara kerja paradigma fungsional ini dalam dunia kita (informatika) berikut:\n",
        "\n",
        "1. Untuk pemrograman back-end server, kita dapat memodelkannya sebagai proses transformasi sebuah HTTP request menjadi HTTP response.\n",
        "2. Untuk pemrograman front-end, kita dapat memodelkannya sebagai proses transformasi data dari server menjadi representasi UI.\n",
        "3. Compiler merupakan program yang mentransformasi kode sumber menjadi executable.\n"
      ]
    },
    {
      "cell_type": "markdown",
      "metadata": {
        "id": "YEt4qs4E4ten"
      },
      "source": [
        "<p align=\"justify\"> Konsep transformasi data ini biasanya didukung dengan konsep data immutability - kekekalan data. Data yang kekal mengatakan bahwa kita tidak akan bisa mengubah nilainya setelah dibuat. Semua fungsi yang bekerja pada sebuah struktur data akan mengembalikan nilai baru, bukan memutasi nilainya. Ini merupakan poin penting dalam konsep transformasi data, karena kita akan bisa yakin bahwa data akan selalu kekal dan tidak mungkin diubah di tempat lain kecuali melalui fungsi transformasi kita. Konsep ini telah kita pelajari sebelumnya pada modul 2 tentang pure function sebagai syarat pemrograman fungsional. Itulah karakteristik ketiga dari paradigma fungsional: transformasi data, gunakan immutability, jangan mutasi data. Hal-hal inilah yang akan menjadi bahasan kita pada modul 3 kali ini."
      ]
    },
    {
      "cell_type": "markdown",
      "metadata": {
        "id": "LRmo6i9u4x4U"
      },
      "source": [
        "Selain itu, saat kita bekerja dengan koleksi data (seperti range, list, tuple, dictionary, dll), terdapat dua pola pemrograman yang sangat umum muncul, antara lain:\n",
        "\n",
        "1. <p align=\"justify\"> Melakukan <b>iterasi koleksi untuk membangun koleksi lain.</b> Pada setiap iterasi, terapkan beberapa transformasi atau beberapa tes ke item saat ini dan tambahkan hasilnya ke koleksi baru. Ini adalah konsep dari map() dan filter()\n",
        "\n",
        "2. Melakukan <b>iterasi dan proses akumulasi hasil untuk membangun nilai tunggal.</b> len(), min(), max(), sum(), dan reduce() adalah contoh dari konsep ini."
      ]
    },
    {
      "cell_type": "markdown",
      "metadata": {
        "id": "0vS2Vf0D4-kW"
      },
      "source": [
        "# **2. Lebih Lanjut tentang Data Sequence**"
      ]
    },
    {
      "cell_type": "markdown",
      "metadata": {
        "id": "JdAJkq-X5CX8"
      },
      "source": [
        "<p align=\"justify\"> Pemrograman fungsional sangat cocok untuk bekerja dengan data sequence, seperti list, tuple, dan range, yang mana telah kita pelajari di modul 1. Sebagaimana juga telah kita pelajari sebelumnya tentang iterator, kita dapat menggunakan iterable object seperti: range, list, tuple, dictionary, generator, dll sebagai parameter input fungsi iter() dan menjadikannya lazy. Masih ingat apa keuntungan dari kita menggunakan lazy evaluation? Coba cek kembali bahasan modul 2 sebelumnya!"
      ]
    },
    {
      "cell_type": "markdown",
      "metadata": {
        "id": "ipfb0rKZ5Fh2"
      },
      "source": [
        "<p align=\"justify\"> Pada topik kali ini kita tidak akan mengulang bahasan yang sama yang telah dibahas di modul sebelumnya. Pun kita tidak akan membahas jenis tipe data sequence baru. Namun kita akan mencoba salah satu cara yang lebih efektif dalam membangun sebuah struktur data sequence, khususnya tipe list."
      ]
    },
    {
      "cell_type": "markdown",
      "metadata": {
        "id": "oo4JotTw5Hye"
      },
      "source": [
        "##**2.1 List Comprehension**"
      ]
    },
    {
      "cell_type": "markdown",
      "metadata": {
        "id": "BwUf612I5Ni2"
      },
      "source": [
        "Di modul-modul sebelumnya, kita mempelajari tentang list dan cara mendeklarasikannya. Seperti ini:"
      ]
    },
    {
      "cell_type": "code",
      "execution_count": null,
      "metadata": {
        "colab": {
          "base_uri": "https://localhost:8080/"
        },
        "id": "wUpWsN515XEd",
        "outputId": "da8bae8b-ca34-4ec1-8db7-36a318f9e445"
      },
      "outputs": [
        {
          "output_type": "stream",
          "name": "stdout",
          "text": [
            "[1, 3, 5, 7, 9, 11, 13, 15, 17, 19, 21, 23, 25, 27, 29, 31, 33, 35, 37, 39, 41, 43, 45, 47, 49]\n"
          ]
        }
      ],
      "source": [
        "list_ganjil = [1, 3,5 ,7 ,9, 11, 13, 15, 17, 19, 21,\n",
        "               23, 25, 27, 29, 31, 33, 35, 37, 39, 41, 43, 45, 47, 49]\n",
        "print(list_ganjil)"
      ]
    },
    {
      "cell_type": "markdown",
      "metadata": {
        "id": "2L9AtzE-5ozq"
      },
      "source": [
        "<p align=\"justify\"> Untuk membuat list dengan ukuran yang lebih pendek, cara diatas memang cocok digunakan. Namun, apabila kita ingin membuat dengan isi yang lebih panjang, tentu cara ini tidak efisien. Misalnya jika kita akan membuat suatu list yang berisi angka ganjil mulai dari 1 sampai 100 atau bahkan 1000. Alih-alih menggunakan kode seperti di atas, kalian mungkin akan terpikir untuk menggunakan perulangan dan append list pada setiap iterasinya seperti berikut:"
      ]
    },
    {
      "cell_type": "code",
      "execution_count": null,
      "metadata": {
        "colab": {
          "base_uri": "https://localhost:8080/"
        },
        "id": "Bb1FIWvG5pvT",
        "outputId": "00763579-faf4-445a-f9e0-8ac1fbe285ac"
      },
      "outputs": [
        {
          "output_type": "stream",
          "name": "stdout",
          "text": [
            "1,3,5,7,9,11,13,15,17,19,21,23,25,27,29,31,33,35,37,39,41,43,45,47,49,"
          ]
        }
      ],
      "source": [
        "list_ganjil = []\n",
        "for i in range(50):\n",
        "  if i % 2 != 0:\n",
        "    list_ganjil.append(i)\n",
        "    print(i, end=',')"
      ]
    },
    {
      "cell_type": "code",
      "source": [],
      "metadata": {
        "id": "NOPoye24vs0Q"
      },
      "execution_count": null,
      "outputs": []
    },
    {
      "cell_type": "markdown",
      "metadata": {
        "id": "2ktt1QXG52Kb"
      },
      "source": [
        "<p align=\"justify\"> Dengan demikian tujuan kita bisa tercapai dengan cara yang lebih efektif. Sepanjang apapun data yang kita inginkan dapat kita bangun dengan cara ini (cukup mengubah nilai input dari range). Namun cara ini tergolong imperatif dan tidaklah fungsional. Oleh karena itu, penggunaan list comprehension bisa menjadi opsi yang lebih baik daripada kedua kode di atas."
      ]
    },
    {
      "cell_type": "markdown",
      "metadata": {
        "id": "2bGueMH853Hu"
      },
      "source": [
        "<p align=\"justify\"> <b> List comprehension </b> adalah salah satu fitur dalam bahasa Python yang memungkinkan kita untuk membuat daftar atau list baru dengan metode yang lebih ringkas dan mudah dibaca. List comprehension memungkinkan kita untuk <b>mengubah iterable object menjadi sebuah list.</b> Berikut format penggunaannya:"
      ]
    },
    {
      "cell_type": "markdown",
      "metadata": {
        "id": "x5lTICloNq8q"
      },
      "source": [
        "> newlist = [ *ekspresi* for* item* in *iterable* if kondisi == True]\n",
        "\n"
      ]
    },
    {
      "cell_type": "markdown",
      "metadata": {
        "id": "QS51Wy8pN6Db"
      },
      "source": [
        "Ekspresi disini merupakan value yang akan dimasukkan dalam list (append). Selebihnya (bagian iterasi-for dan kondisi-if) adalah kode yang sama persis yang kita susun secara linier (sebaris). Dan seperti inilah jadinya:"
      ]
    },
    {
      "cell_type": "code",
      "execution_count": null,
      "metadata": {
        "colab": {
          "base_uri": "https://localhost:8080/"
        },
        "id": "v8l5hNJ85-RN",
        "outputId": "ccd25b2d-5b8e-419a-965c-6e931705b2f6"
      },
      "outputs": [
        {
          "output_type": "stream",
          "name": "stdout",
          "text": [
            "[1, 3, 5, 7, 9, 11, 13, 15, 17, 19, 21, 23, 25, 27, 29, 31, 33, 35, 37, 39, 41, 43, 45, 47, 49]\n"
          ]
        }
      ],
      "source": [
        "'''\n",
        "desc: list comprehension untuk membuat sebuah daftar (list_ganjil)\n",
        "yang berisi semua bilangan ganjil dalam range(50).\n",
        "pre-cond: -\n",
        "post-cond: list angka ganjil dari 0 hingga 49.\n",
        "'''\n",
        "list_ganjil = [x for x in range (50) if x % 2 != 0]\n",
        "\n",
        "print(list_ganjil)"
      ]
    },
    {
      "cell_type": "markdown",
      "metadata": {
        "id": "nNENPy-e3b_G"
      },
      "source": [
        "<p align=\"justify\"> Lebih ringkas dan sederhana bukan. Cukup dengan satu baris kode sederhana kita dapat membuat daftar sepanjang yang kita mau. Kode diatas akan mengembalikan list baru tanpa mengubah iterable data. Hal ini sejalan dengan prinsip immutability pada pemrograman fungsional. Selain itu, konsep ini memenuhi karakteristik pemrograman fungsional sebagaimana yang telah dibahas di modul 2 sebelumnya, yaitu gaya deklaratif. Dengan list comprehension, kita menyatakan apa yang kita inginkan (daftar baru) daripada menjelaskan bagaimana cara mendapatkannya (dengan loop).\n",
        "\n",
        "<p align=\"justify\"> Secara keseluruhan, list comprehension adalah alat yang kuat dalam Python. Guna mewujudkan prinsip-prinsip pemrograman fungsional dengan mempromosikan cara yang lebih ekspresif dan ringkas untuk memanipulasi list, menekankan immutabilitas dan abstraksi tingkat tinggi dibandingkan dengan teknik pemrograman imperatif tradisional.\n"
      ]
    },
    {
      "cell_type": "markdown",
      "metadata": {
        "id": "k_Q0Qhg43gvo"
      },
      "source": [
        "##**2.2 Nested List**"
      ]
    },
    {
      "cell_type": "markdown",
      "metadata": {
        "id": "U5D1oOsK3kY5"
      },
      "source": [
        "<p align=\"justify\"> Nested List adalah list yang di dalamnya berisi list lain sebagai elemen. Dalam Python, nested list sering digunakan untuk merepresentasikan struktur data multidimensi, seperti matriks, tabel, atau grafik. Sebagaimana kita sadari bahwa data list pada python hampir mirip seperti konsep array pada bahasa pemrograman lain, maka nested list juga mirip seperti array multidimensi. Tentunya dengan beberapa kelebihannya (list dibanding array).\n"
      ]
    },
    {
      "cell_type": "markdown",
      "metadata": {
        "id": "X8WKHv2t3plD"
      },
      "source": [
        "**a. Percobaan 1: Membuat Matrix**"
      ]
    },
    {
      "cell_type": "markdown",
      "metadata": {
        "id": "vWE3FeOg3uTY"
      },
      "source": [
        "<p align=\"justify\"> Dalam contoh berikut, kita akan membuat matrix 4x5 menggunakan nested loop. Outer loop mengiterasi sejumlah baris matrix (yaitu empat kali), melakukan proses append sublist kosong ke dalam matrix. Sedangkan inner loop kita gunakan untuk mengisi setiap sublist dengan nilai mulai dari 0 hingga 4 (sebanyak 5 elemen), sehingga menghasilkan matrix dengan nilai integer yang berurutan.\n"
      ]
    },
    {
      "cell_type": "markdown",
      "metadata": {
        "id": "O_1X6YDv3yPv"
      },
      "source": [
        "> Tanpa List Comprehension"
      ]
    },
    {
      "cell_type": "code",
      "execution_count": null,
      "metadata": {
        "colab": {
          "base_uri": "https://localhost:8080/"
        },
        "id": "NBZgK2Cw30qR",
        "outputId": "15991993-ea38-426f-98ef-4e32081f3bf7"
      },
      "outputs": [
        {
          "name": "stdout",
          "output_type": "stream",
          "text": [
            "[[0, 1, 2, 3, 4], [0, 1, 2, 3, 4], [0, 1, 2, 3, 4], [0, 1, 2, 3, 4]]\n"
          ]
        }
      ],
      "source": [
        "matrix1 = []\n",
        "\n",
        "for i in range(4):\n",
        "  matrix1.append([])\n",
        "  for j in range(5):\n",
        "    matrix1[i].append(j)\n",
        "print(matrix1)"
      ]
    },
    {
      "cell_type": "markdown",
      "metadata": {
        "id": "L3z_IYt8qy-v"
      },
      "source": [
        "\n",
        "<p align=\"center\"> <b>CHALLENGE</b>\n",
        "\n",
        "<p align=\"center\"> Sekarang coba kalian tampilkan nested list di atas agar lebih tampak seperti matrix 4 baris 5 kolom! Setelah berhasil, tunjukkanlah pada asisten!"
      ]
    },
    {
      "cell_type": "markdown",
      "metadata": {
        "id": "9ZccRfY74wfN"
      },
      "source": [
        "> **Menggunakan List Comprehension**"
      ]
    },
    {
      "cell_type": "markdown",
      "metadata": {
        "id": "yq1y6rCpq1eB"
      },
      "source": [
        "Sekali lagi, penggunaan looping adalah tidak disarankan dalam paradigma fungsional. Karena pemrograman fungsional punya teknik/cara yang lebih sederhana dan deklaratif daripada itu. Ya, hasil yang sama juga bisa didapatkan menggunakan nested list comprehension. Cukup hanya satu baris kode seperti ini:"
      ]
    },
    {
      "cell_type": "code",
      "execution_count": null,
      "metadata": {
        "colab": {
          "base_uri": "https://localhost:8080/"
        },
        "id": "qoy0yutU4-tt",
        "outputId": "6550f41b-8054-4c19-dfb3-79fc92ad4c3e"
      },
      "outputs": [
        {
          "output_type": "stream",
          "name": "stdout",
          "text": [
            "[[0, 1, 2, 3, 4], [0, 1, 2, 3, 4], [0, 1, 2, 3, 4], [0, 1, 2, 3, 4]]\n"
          ]
        }
      ],
      "source": [
        "matrix1 = [[j for j in range(5)] for i in range(4)]\n",
        "print(matrix1)"
      ]
    },
    {
      "cell_type": "markdown",
      "metadata": {
        "id": "n03FZZfbOmYF"
      },
      "source": [
        "Coba perhatikan struktur syntax untuk nested list comprehension berikut:\n"
      ]
    },
    {
      "cell_type": "markdown",
      "metadata": {
        "id": "Ivxzr1bjOcbL"
      },
      "source": [
        "<p align=\"center\"><b>Syntax</b>\n",
        "\n",
        "> <p align=\"center\"> newlist = [ [*ekspresi* for *item* in *inner_iterable*] for *item* in *outer_iterable* ]"
      ]
    },
    {
      "cell_type": "markdown",
      "metadata": {
        "id": "GUaEkaUWq5Fm"
      },
      "source": [
        "<p align=\"justify\"> Disini kita memasukkan sebuah list comprehension ( [ <i> ekspresi</i> for <i>item</i> in <i>inner_iterable</i> ] ) sebagai <b>ekspresi</b> dari list comprehension lain dan untuk statement kondisi-if adalah opsional, bisa ditambahkan, bisa juga tidak.\n"
      ]
    },
    {
      "cell_type": "markdown",
      "metadata": {
        "id": "knGIh69OP9Sj"
      },
      "source": [
        "<p align=\"center\"><b>CHALLENGE</b>\n",
        "\n",
        "<p align=\"center\"> Buatlah sebuah list comprehension untuk menyimpan data seperti berikut dan tampilkan dalam bentuk matrix:\n",
        "\n",
        "<p align=\"center\"> `[ [ 0, 1, 2, 3 ], [ 4, 5, 6, 7 ], [ 8, 9, 10, 11 ] ]`\n",
        "\n"
      ]
    },
    {
      "cell_type": "code",
      "source": [
        "contoh = [[j+x for j in range(4)] for x in range(0, 12, 4)]\n",
        "\n",
        "print(contoh)"
      ],
      "metadata": {
        "colab": {
          "base_uri": "https://localhost:8080/"
        },
        "id": "44oWI3RTxU7x",
        "outputId": "6b7d9cd9-2644-491b-f882-54b3215464e0"
      },
      "execution_count": null,
      "outputs": [
        {
          "output_type": "stream",
          "name": "stdout",
          "text": [
            "[[0, 1, 2, 3], [4, 5, 6, 7], [8, 9, 10, 11]]\n"
          ]
        }
      ]
    },
    {
      "cell_type": "markdown",
      "metadata": {
        "id": "cv1flFBw7ob9"
      },
      "source": [
        "**b. Percobaan 2: Filtering Nested List Menggunakan List Comprehension**"
      ]
    },
    {
      "cell_type": "markdown",
      "metadata": {
        "id": "Z8P4B0T37_eV"
      },
      "source": [
        "<p align=\"justify\">Penambahan kondisi-if pada bagian akhir dari list comprehension memungkinkan kita menyaring data dalam nested list sesuai kriteria yang diinginkan. Hal ini dikenal juga dengan istilah filtering. Contohnya, kita dapat mengambil hanya elemen dengan nilai genap atau ganjil, atau melakukan operasi filtering lainnya berdasarkan baris atau kolom dari nested list."
      ]
    },
    {
      "cell_type": "markdown",
      "metadata": {
        "id": "jldlr5xlQnWH"
      },
      "source": [
        "<p align=\"justify\"> Dalam sintaks nested list comprehension, terdapat dua list comprehension. Masing-masing dapat dilengkapi dengan kondisi if yang berbeda, dan akan memberikan dampak yang berbeda pula. Dimana kondisi-if pada inner list akan mempengaruhi bagian kolom matrix, dan kondisi-if pada outer list akan berpengaruh pada pemilihan/filter baris."
      ]
    },
    {
      "cell_type": "markdown",
      "metadata": {
        "id": "trz8XSoCQqHI"
      },
      "source": [
        "Secara konvensional, pengkondisian menggunakan if dapat dituliskan didalam/setelah loop yang kita inginkan seperti berikut:"
      ]
    },
    {
      "cell_type": "code",
      "execution_count": null,
      "metadata": {
        "id": "bak94VGTQSvX"
      },
      "outputs": [],
      "source": [
        "# Didefinisikan baris dan kolom sesuai ukuran matrix\n",
        "baris = 3\n",
        "kolom = 4"
      ]
    },
    {
      "cell_type": "markdown",
      "metadata": {
        "id": "G3GW3uPGSBf2"
      },
      "source": [
        "> Tanpa List Comprehension"
      ]
    },
    {
      "cell_type": "code",
      "execution_count": null,
      "metadata": {
        "colab": {
          "base_uri": "https://localhost:8080/"
        },
        "collapsed": true,
        "id": "C67GTnF4P95S",
        "outputId": "f6dd9753-0d6c-4ed8-f03d-a840aefca7ec"
      },
      "outputs": [
        {
          "output_type": "stream",
          "name": "stdout",
          "text": [
            "Data list genap:\n",
            "\t [[0, 2], [4, 6], [8, 10]]\n",
            "Data list ganjil pada baris genap:\n",
            "\t [[1, 3], [9, 11]]\n"
          ]
        }
      ],
      "source": [
        "# Membuat nested list 'matrix2_genap' hanya dengan elemen genap\n",
        "matrix2_genap = []\n",
        "for y in range(baris):\n",
        "    row = []\n",
        "    for x in range(y * kolom, (y + 1) * kolom):\n",
        "        if x % 2 == 0:\n",
        "            row.append(x)\n",
        "    matrix2_genap.append(row)\n",
        "print(\"Data list genap:\\n\\t\",matrix2_genap)\n",
        "\n",
        "# Membuat nested list 'matrix2_ganjil' yang berisi elemen ganjil pada baris genap\n",
        "matrix2_ganjil = []\n",
        "for y in range(baris):\n",
        "    if y % 2 == 0:  # Kondisi untuk memilih hanya baris genap\n",
        "        row = []\n",
        "        for x in range(y * kolom, (y + 1) * kolom):\n",
        "            if x % 2 == 1:  # Kondisi untuk memilih elemen ganjil\n",
        "                row.append(x)\n",
        "        matrix2_ganjil.append(row)\n",
        "print(\"Data list ganjil pada baris genap:\\n\\t\",matrix2_ganjil)"
      ]
    },
    {
      "cell_type": "markdown",
      "metadata": {
        "id": "FDWbl5TTSDbA"
      },
      "source": [
        "> Menggunakan List Comprehension"
      ]
    },
    {
      "cell_type": "code",
      "execution_count": null,
      "metadata": {
        "colab": {
          "base_uri": "https://localhost:8080/"
        },
        "id": "HX1DVCV0-d0t",
        "outputId": "54d12ec3-340b-44b2-cbf7-1dc8b199d1c1"
      },
      "outputs": [
        {
          "name": "stdout",
          "output_type": "stream",
          "text": [
            "Data list genap:\n",
            "\t [[0, 2], [4, 6], [8, 10]]\n",
            "Data list ganjil pada baris genap:\n",
            "\t [[1, 3], [9, 11]]\n"
          ]
        }
      ],
      "source": [
        "\n",
        "# Menambahkan filter genap untuk semua elemen matrix\n",
        "matrix2_genap = [[x for x in range(y*kolom, (y+1)*kolom) if x%2==0]\n",
        "                for y in range(baris)]\n",
        "print(\"Data list genap:\\n\\t\", matrix2_genap)\n",
        "\n",
        "# Membuat filter elemen ganjil pada baris genap\n",
        "matrix2_ganjil = [[x for x in range(y*kolom, (y+1)*kolom) if x%2==1]\n",
        "                 for y in range(baris) if y%2==0]\n",
        "print(\"Data list ganjil pada baris genap:\\n\\t\", matrix2_ganjil)"
      ]
    },
    {
      "cell_type": "markdown",
      "metadata": {
        "id": "GREaPwQU6SzP"
      },
      "source": [
        "**c. Percobaan 3: Mengakses Elemen dalam Nested List**"
      ]
    },
    {
      "cell_type": "markdown",
      "metadata": {
        "id": "5O9Kcz6qAUZj"
      },
      "source": [
        "<p align=\"justify\"> Seperti yang telah disebutkan sebelumnya, Nested list tidak jauh berbeda dengan array multidimensi. Secara struktur bahkan mereka sama persis. Bisa kalian perhatikan pada kode berikut! Bahkan cara mengakses elemen nya pun sama, menggunakan index."
      ]
    },
    {
      "cell_type": "code",
      "execution_count": null,
      "metadata": {
        "colab": {
          "base_uri": "https://localhost:8080/"
        },
        "id": "lIrVQake6mov",
        "outputId": "a46e3e76-d9d5-4bca-a634-1d93a0576d77"
      },
      "outputs": [
        {
          "output_type": "stream",
          "name": "stdout",
          "text": [
            "Baris kedua kolom ketiga:  9\n",
            "Baris ketiga kolom kedua:  1\n"
          ]
        }
      ],
      "source": [
        "percobaan3 = [\n",
        "    [2, 5, 7, 9, 3],\n",
        "    [0, 1, 9, 3, 5],\n",
        "    [7, 1, 4, 6, 7],\n",
        "    [0, 9, 7, 3, 2]\n",
        "]\n",
        "\n",
        "# Mengakses elemen baris kedua, kolom ketiga\n",
        "elemen1 = percobaan3[1][2]\n",
        "print(\"Baris kedua kolom ketiga: \", elemen1)\n",
        "\n",
        "# Mengakses elemen baris ketiga, kolom kedua\n",
        "elemen2 = percobaan3[2][1]\n",
        "print(\"Baris ketiga kolom kedua: \", elemen2)"
      ]
    },
    {
      "cell_type": "markdown",
      "metadata": {
        "id": "sVNP205Ar1aZ"
      },
      "source": [
        "<p align=\"justify\"> Pada konteks pemrograman fungsional, kita dapat memanipulasi nested list menggunakan konsep-konsep seperti pure function, list comprehension, dan fungsi-fungsi built-in seperti map, filter, dan reduce yang akan menjadi pembahasan kita juga pada modul 3 ini."
      ]
    },
    {
      "cell_type": "markdown",
      "metadata": {
        "id": "ziBPf_GM7cU7"
      },
      "source": [
        "# **3. Teknik Mengolah Data Sequence**"
      ]
    },
    {
      "cell_type": "markdown",
      "metadata": {
        "id": "GWJ4L7Ym7gwI"
      },
      "source": [
        "<p align=\"justify\"> Saat kita bekerja dengan koleksi data/data sequence pasti akan melibatkan iterasi/perulangan. Terdapat dua pola pemrograman yang sangat umum muncul terkait pengolahan data sequence, yaitu <b> (1) iterasi untuk membuat koleksi baru </b> dan (2) <b>iterasi plus komputasi untuk mendapatkan nilai tunggal</b> dari data. Sebagaimana yang telah kita pelajari sebelumnya (modul 2) bahwa pemrograman fungsional merupakan paradigma pemrograman deklaratif yang berfokus pada <b>‘apa’</b> daripada <b>‘bagaimana’</b>. Sehingga untuk proses iterasi data sequence pada pemrograman fungsional, kita tidak lagi menggunakan looping (for/while) dan menuliskan langkah-langkah imperatif program. Namun disini kita akan menggunakan teknik atau fungsi-fungsi deklaratif untuk mencapai apa yang kita inginkan."
      ]
    },
    {
      "cell_type": "markdown",
      "metadata": {
        "id": "0EphFL8Q7vKX"
      },
      "source": [
        "<p align=\"justify\"> Beberapa teknik pengolahan data sequence yang umum digunakan antara lain adalah fungsi map(), filter(), dan reduce(). Fungsi-fungsi ini memerlukan sebuah <b> fungsi dan iterator sebagai argumen/parameter</b> input. Dalam paradigma pemrograman fungsional, fungsi yang bisa <b>menerima fungsi lain sebagai input</b> dikenal dengan istilah fungsi orde tinggi (<i>Higher-Order Function</i>). Fungsi map(), filter(), dan reduce() merupakan <i>built-in Higher-Order</i> Function bawaan dari Python.\n"
      ]
    },
    {
      "cell_type": "markdown",
      "metadata": {
        "id": "a9M5iems1PMo"
      },
      "source": [
        "<p align=\"justify\"> Higher-Order Function, immutability dan lazy evaluation merupakan cara yang efisien untuk memproses data sequence. Dari ketiga keyword tersebut, yang mungkin masih asing bagi kalian adalah Higher-Order Function (HoF). Penjelasan detail tentang apa itu HoF, akan kita bahas pada modul selanjutnya. Sedangkan pada modul ini kita akan berfokus pada fungsi map(), filter(), dan reduce() yang merupakan implementasi dari HoF."
      ]
    },
    {
      "cell_type": "markdown",
      "metadata": {
        "id": "LHmQPdk-hJBn"
      },
      "source": [
        "##**3.1 Filter**"
      ]
    },
    {
      "cell_type": "markdown",
      "metadata": {
        "id": "Ft12801krSGK"
      },
      "source": [
        "<p align=\"justify\"> Sebelumnya kita sudah mengimplementasikan filtering pada list comprehension dengan menambahkan kondisi-if di dalamnya. Dengan list comprehension saja sebenarnya sudah cukup bisa untuk kita melakukan filtering data. Namun, di modul 2 kemarin kita sudah mengenal satu konsep andalan paradigma fungsional, yaitu lazy evaluation. Dan data list tidak lazy. Jika ada yang bisa dikerjakan secara lazy (dengan bermalas-malasan namun lebih optimal), kenapa tidak!? Itulah tujuan dari fungsi filter() disini."
      ]
    },
    {
      "cell_type": "markdown",
      "metadata": {
        "id": "RcG_FcYZrUrm"
      },
      "source": [
        "<p align=\"justify\"> Fungsi ini dinamai sebagaimana peruntukannya, yaitu fungsi yang digunakan untuk <b> menyaring elemen-elemen dari sebuah iterable data </b> (seperti list, tuple, atau string) berdasarkan suatu kondisi atau kriteria tertentu. Fungsi 'filter' menerima dua argumen, yaitu <b>sebuah fungsi dan iterable data/object</b> sebagai parameter input."
      ]
    },
    {
      "cell_type": "markdown",
      "metadata": {
        "id": "kenfpR4j14WH"
      },
      "source": [
        "<p align=\"justify\">Fungsi yang bisa dijadikan sebagai input filter() harus berupa <b>fungsi logika</b> yang berisi suatu kondisi tertentu untuk menyaring data. Fungsi ini akan diterapkan ke setiap elemen dalam data iterable, dan hanya elemen-elemen yang memenuhi kondisi 'True' akan disertakan dalam hasil akhirnya. Oleh karena itu, umumnya <b>hasil dari filter akan lebih sedikit dari data semula.</b> Namanya juga disaring (filter) kan.\n",
        "\n",
        "Mari kita coba mempraktekkan proses filtering data secara fungsional berikut:"
      ]
    },
    {
      "cell_type": "code",
      "execution_count": null,
      "metadata": {
        "colab": {
          "base_uri": "https://localhost:8080/"
        },
        "id": "mnl2iiNAmbGS",
        "outputId": "540484a9-c49f-40ac-bbe6-067634e36f31"
      },
      "outputs": [
        {
          "output_type": "stream",
          "name": "stdout",
          "text": [
            "<filter object at 0x7ff2c0e751b0>\n"
          ]
        }
      ],
      "source": [
        "#1. Menyiapkan fungsi logika\n",
        "'''\n",
        "desc: fungsi_genap(x) menerima sebuah bilangan dan mengembalikan nilai boolean True\n",
        "jika bilangan tersebut adalah genap, dan False jika bilangan tersebut adalah ganjil.\n",
        "\n",
        "pre-cond: input x merupakan sembarang data, bisa int, float, dlsb\n",
        "post-cond: fungsi akan mengembalikan True jika x adalah bilangan genap,\n",
        "           dan False jika x adalah bilangan ganjil.\n",
        "'''\n",
        "def fungsi_genap(x):\n",
        "    return x % 2 == 0\n",
        "\n",
        "#2. Data yang akan di filter\n",
        "numbers = [1, 2, 3, 4, 5, 6, 7, 8, 9, 10, 11, 12, 13, 14, 15]\n",
        "\n",
        "#3. Pengunaan fungsi filter()\n",
        "angka_genap = filter(fungsi_genap, numbers)\n",
        "print(angka_genap)"
      ]
    },
    {
      "cell_type": "markdown",
      "metadata": {
        "id": "JABxWfXRnAyR"
      },
      "source": [
        "<p align=\"justify\"> Seperti yang sudah disebutkan sebelumnya, fungsi filter adalah implementasi dari lazy evaluation. Oleh karena itu, hasil dari filter tidak bisa di-print secara langsung. Seperti halnya generator yang lazy. Untuk mencetak nilai hasil filter, kita bisa memperlakukannya layaknya generator atau iterator., yakni dengan menggunakan fungsi next() maupun dengan iterasi atau loop seperti berikut:"
      ]
    },
    {
      "cell_type": "code",
      "execution_count": null,
      "metadata": {
        "colab": {
          "base_uri": "https://localhost:8080/"
        },
        "id": "LhlhdsS9nEtW",
        "outputId": "a8d01aa6-d8a3-41ea-a611-c00c5cd53860"
      },
      "outputs": [
        {
          "output_type": "stream",
          "name": "stdout",
          "text": [
            "First item: 2\n",
            "Second item: 4\n",
            "The rest item:\n",
            "6 8 10 12 14 "
          ]
        }
      ],
      "source": [
        "# Mengakses filter object menggunakan next\n",
        "print('First item:',next(angka_genap))\n",
        "print('Second item:',next(angka_genap))\n",
        "\n",
        "# Mengakses map object menggunakan iterasi\n",
        "print('The rest item:')\n",
        "for item in angka_genap:\n",
        "  print(item, end = ' ')"
      ]
    },
    {
      "cell_type": "markdown",
      "metadata": {
        "id": "1H9TKep1ncYP"
      },
      "source": [
        "<p align=\"justify\"> Atau bisa juga dilakukan dengan parsing data ke tipe lain seperti list atau tuple. Karena data ‘numbers’ kita hanyalah deret angka berurut dari 1 sampai 15, maka kita dapat dengan mudah menggantikannya dengan data range yang lazy juga daripada list ‘numbers’. Masih ingat materi modul 2 tentang ini kan. Saat kita membandingkan antara data range dan data list. Silahkan perhatikan contoh di bawah ini:"
      ]
    },
    {
      "cell_type": "code",
      "execution_count": null,
      "metadata": {
        "colab": {
          "base_uri": "https://localhost:8080/"
        },
        "id": "tGR3PqcZncOT",
        "outputId": "79521d45-1b9d-46bc-f4f3-3ce155065275"
      },
      "outputs": [
        {
          "output_type": "stream",
          "name": "stdout",
          "text": [
            "[2, 4, 6, 8, 10, 12, 14]\n"
          ]
        }
      ],
      "source": [
        "# Membuat object filter baru menggunakan range sebagai iterable data\n",
        "new_numbers = filter(fungsi_genap, range(1, 15))\n",
        "\n",
        "# Casting filter object menjadi list untuk menampilkan hasil\n",
        "print(list(new_numbers))"
      ]
    },
    {
      "cell_type": "markdown",
      "metadata": {
        "id": "85AkQ92BLGd4"
      },
      "source": [
        "<p align=\"justify\">Karena data numbers kita hanyalah deret angka berurut dari 1 sampai 15, kita dapat dengan mudah menggantikannya dengan data range yang lebih lazy daripada list. Masih ingat materi modul 2 tentang ini kan. Saat kita membandingkan antara data range dan data list.\n",
        "\n",
        "<p align=\"justify\">Hasil yang sama persis bisa kita peroleh dengan baris kode yang lebih singkat dan bahkan lebih hemat memory karena semuanya lazy evaluation. Super sekali paradigma fungsional ini!\n",
        "\n",
        "<p align=\"justify\"> Eits, tunggu sampai kalian bertemu lambda di modul 4. Dengan itu nantinya kita tidak perlu lagi membuat deklarasi fungsi. Sabar.. Jangan terburu-buru, jangan ya dek ya, pelan-pelan dulu saja kita. Yang penting paham. OK. Lanjut."
      ]
    },
    {
      "cell_type": "markdown",
      "metadata": {
        "id": "mB5eda2wUufn"
      },
      "source": [
        "##**3.2 Map**\n",
        "\n",
        "<p align=\"justify\"> Sesuai dengan namanya, map adalah peta. Map digunakan untuk <b> memetakan data</b>. Fungsi map() menerapkan sebuah <b>fungsi transformasi</b> ke setiap item dalam sebuah iterable data dan mengembalikan sebuah objek map. Hasil dari map ini selalu sama dalam konteks jumlah/panjang data dengan iterable object yang diberikan.\n",
        "\n",
        "<p align=\"justify\"> Karena fungsinya untuk memetakan, maka kita <b> hanya boleh memasukkan fungsi yang akan merubah data </b> dan <u>bukan fungsi logika</u>, melainkan <b>fungsi transformasi</b>. Contoh penggunaannya seperti di bawah ini:"
      ]
    },
    {
      "cell_type": "code",
      "execution_count": null,
      "metadata": {
        "colab": {
          "base_uri": "https://localhost:8080/"
        },
        "id": "tjuZ_TPvUn-R",
        "outputId": "3ea22a86-acd2-44b3-b957-5d2c14667a42"
      },
      "outputs": [
        {
          "output_type": "stream",
          "name": "stdout",
          "text": [
            "<map object at 0x7ff2c0e76530>\n"
          ]
        }
      ],
      "source": [
        "#1. Menyiapkan fungsi transformasi\n",
        "'''\n",
        "desc: fungsi double(x) untuk MERUBAH input x menjadi 2x\n",
        "pre-cond: input x merupakan sembarang data, bisa int, float, dlsb\n",
        "post-cond: 2x sebagai return value\n",
        "'''\n",
        "def double(x):\n",
        "    return x * 2\n",
        "\n",
        "#2. Data berupa sequence/iterable data\n",
        "numbers = [1, 2, 3, 4, 5]\n",
        "\n",
        "#3. Penggunaan fungsi map\n",
        "doubled_numbers = map(double, numbers)\n",
        "print(doubled_numbers)"
      ]
    },
    {
      "cell_type": "markdown",
      "metadata": {
        "id": "EHkMFxNOflmi"
      },
      "source": [
        "<p align=\"justify\"> Sama seperti generator dan filter(), fungsi map juga mengimplementasikan <b>lazy evaluation</b>. Oleh karena itu, hasil dari map tidak bisa di-print secara langsung. Untuk mencetak nilai, perlu diperlakukan pula seperti iterator dan generator objek seperti di bawah:"
      ]
    },
    {
      "cell_type": "code",
      "execution_count": null,
      "metadata": {
        "colab": {
          "base_uri": "https://localhost:8080/"
        },
        "id": "Z3llp_Z2zNU4",
        "outputId": "9b853319-8d2a-4394-8ce1-92b81135726b"
      },
      "outputs": [
        {
          "name": "stdout",
          "output_type": "stream",
          "text": [
            "First item: 2\n",
            "Second item: 4\n",
            "The rest item:\n",
            "6 8 10 "
          ]
        }
      ],
      "source": [
        "# Mengakses map object menggunakan next\n",
        "print('First item:', next(doubled_numbers))\n",
        "print('Second item:', next(doubled_numbers))\n",
        "\n",
        "# Mengakses map object menggunakan iterasi\n",
        "print('The rest item:')\n",
        "for item in doubled_numbers:\n",
        "  print(item, end = ' ')"
      ]
    },
    {
      "cell_type": "markdown",
      "metadata": {
        "id": "aJFN88P1s1Az"
      },
      "source": [
        "Karena sama, maka disini kita juga bisa melakukan parsing objek map ke dalam tipe sequence lain. Seperti ini contohnya:"
      ]
    },
    {
      "cell_type": "code",
      "execution_count": null,
      "metadata": {
        "colab": {
          "base_uri": "https://localhost:8080/"
        },
        "id": "G9nT5lnysPbI",
        "outputId": "a867a029-7720-4e50-9f57-3e09e9ef2209"
      },
      "outputs": [
        {
          "name": "stdout",
          "output_type": "stream",
          "text": [
            "(2, 4, 6, 8, 10)\n"
          ]
        }
      ],
      "source": [
        "# Membuat object map baru karena double_numbers sudah tidak bisa digunakan lagi\n",
        "# karena item telah habis digenerate pada iterasi sebelumnya\n",
        "new_numbers = map(double, range(1,6))\n",
        "\n",
        "# Casting map object menjadi tuple untuk menampilkan hasil\n",
        "print(tuple(new_numbers))"
      ]
    },
    {
      "cell_type": "markdown",
      "metadata": {
        "id": "IPsuL4W7VpJl"
      },
      "source": [
        "<p align=\"justify\"> Bagaimana dengan data non-number seperti misal String. Apakah juga bisa kita implementasikan fungsi map untuk data String? Tentu saja bisa, selama dua syarat argumen yang dibutuhkan oleh fungsi map terpenuhi. Yaitu:\n",
        "\n",
        "1. Ada fungsi untuk transformasi data\n",
        "2. Data yang diberikan merupakan data sequence.\n",
        "\n",
        "<p align=\"justify\"> Bukankah String juga sequence of char? Berarti bisa langsung kita jadikan data input untuk dimappingkan kan. Mari coba buktikan! Jalankan dan amati kode berikut:"
      ]
    },
    {
      "cell_type": "code",
      "execution_count": null,
      "metadata": {
        "colab": {
          "base_uri": "https://localhost:8080/"
        },
        "id": "mfluGUs4XOCu",
        "outputId": "1411901f-bae9-436a-897d-b7b94f0a3175"
      },
      "outputs": [
        {
          "name": "stdout",
          "output_type": "stream",
          "text": [
            "['hh', 'aa', 'ii']\n"
          ]
        }
      ],
      "source": [
        "# Map single string menggunakan fungsi double\n",
        "map_str = map(double,'hai')\n",
        "print(list(map_str))"
      ]
    },
    {
      "cell_type": "markdown",
      "metadata": {
        "id": "42eJLATuV8I4"
      },
      "source": [
        "Bagaimana dengan list of string:"
      ]
    },
    {
      "cell_type": "code",
      "execution_count": null,
      "metadata": {
        "colab": {
          "base_uri": "https://localhost:8080/"
        },
        "id": "XVRwDjUNXn4Y",
        "outputId": "a52020d0-650c-40ed-80ee-ef76e7568870"
      },
      "outputs": [
        {
          "name": "stdout",
          "output_type": "stream",
          "text": [
            "('andiandi', 'budibudi', 'dewidewi')\n"
          ]
        }
      ],
      "source": [
        "# Map list of string menggunakan fungsi double\n",
        "name_list = ['andi','budi','dewi']\n",
        "double_name = map(double,name_list)\n",
        "print(tuple(double_name))"
      ]
    },
    {
      "cell_type": "markdown",
      "metadata": {
        "id": "RyuIfSX8YWTr"
      },
      "source": [
        "Sebagaimana deskripsi dari fungsi double sebelumnya:\n",
        "\n",
        "```\n",
        "desc: fungsi double(x) untuk MERUBAH input x menjadi 2x\n",
        "pre-cond: input x merupakan sembarang data, bisa int, float, dlsb\n",
        "post-cond: 2x sebagai return value\n",
        "```\n",
        "<p align=\"justify\"> Fungsi ini menerima x sebagai sembarang data, maka data tipe string pun bisa kita kirimkan sebagai input fungsi. Dan kemudian ditransformasikan oleh fungsi double menjadi 2x. Jadilah seperti itu hasilnya. Bagaimana jika kita mencoba dengan fungsi lain yang lebih String friendly?\n"
      ]
    },
    {
      "cell_type": "code",
      "execution_count": null,
      "metadata": {
        "colab": {
          "base_uri": "https://localhost:8080/"
        },
        "id": "_QczGrUXYVji",
        "outputId": "04cef561-607a-450b-89bc-09b989726093"
      },
      "outputs": [
        {
          "name": "stdout",
          "output_type": "stream",
          "text": [
            "['ANDI', 'BUDI', 'DEWI']\n"
          ]
        }
      ],
      "source": [
        "'''\n",
        "desc: fungsi uppercase(s) merubah string input (s) menjadi huruf besar\n",
        "pre-cond: input s harus bertipe string\n",
        "post-cond: string input akan dikembalikan dalam bentuk huruf besar\n",
        "'''\n",
        "def uppercase(s):\n",
        "  return s.upper()\n",
        "\n",
        "caps_name = map(uppercase,name_list)\n",
        "print(list(caps_name))"
      ]
    },
    {
      "cell_type": "markdown",
      "metadata": {
        "id": "9AQTt-lob4dv"
      },
      "source": [
        "Apa yang terjadi jika fungsi `uppercase()` kita gunakan untuk memetakan data `numbers`? Pasti akan terjadi error, karena data input tidak sesuai dengan pre-condition fungsi."
      ]
    },
    {
      "cell_type": "code",
      "execution_count": null,
      "metadata": {
        "colab": {
          "base_uri": "https://localhost:8080/",
          "height": 292
        },
        "id": "e5ZHcaSMbIb7",
        "outputId": "4d300b2c-2814-47ae-fc7e-be8ba70959a1"
      },
      "outputs": [
        {
          "ename": "AttributeError",
          "evalue": "'int' object has no attribute 'upper'",
          "output_type": "error",
          "traceback": [
            "\u001b[0;31m---------------------------------------------------------------------------\u001b[0m",
            "\u001b[0;31mAttributeError\u001b[0m                            Traceback (most recent call last)",
            "\u001b[0;32m<ipython-input-17-4bb138c8d15e>\u001b[0m in \u001b[0;36m<cell line: 2>\u001b[0;34m()\u001b[0m\n\u001b[1;32m      1\u001b[0m \u001b[0mcaps_name\u001b[0m \u001b[0;34m=\u001b[0m \u001b[0mmap\u001b[0m\u001b[0;34m(\u001b[0m\u001b[0muppercase\u001b[0m\u001b[0;34m,\u001b[0m\u001b[0mnumbers\u001b[0m\u001b[0;34m)\u001b[0m\u001b[0;34m\u001b[0m\u001b[0;34m\u001b[0m\u001b[0m\n\u001b[0;32m----> 2\u001b[0;31m \u001b[0mprint\u001b[0m\u001b[0;34m(\u001b[0m\u001b[0mlist\u001b[0m\u001b[0;34m(\u001b[0m\u001b[0mcaps_name\u001b[0m\u001b[0;34m)\u001b[0m\u001b[0;34m)\u001b[0m\u001b[0;34m\u001b[0m\u001b[0;34m\u001b[0m\u001b[0m\n\u001b[0m",
            "\u001b[0;32m<ipython-input-12-1f09d692a1bc>\u001b[0m in \u001b[0;36muppercase\u001b[0;34m(s)\u001b[0m\n\u001b[1;32m      5\u001b[0m '''\n\u001b[1;32m      6\u001b[0m \u001b[0;32mdef\u001b[0m \u001b[0muppercase\u001b[0m\u001b[0;34m(\u001b[0m\u001b[0ms\u001b[0m\u001b[0;34m)\u001b[0m\u001b[0;34m:\u001b[0m\u001b[0;34m\u001b[0m\u001b[0;34m\u001b[0m\u001b[0m\n\u001b[0;32m----> 7\u001b[0;31m   \u001b[0;32mreturn\u001b[0m \u001b[0ms\u001b[0m\u001b[0;34m.\u001b[0m\u001b[0mupper\u001b[0m\u001b[0;34m(\u001b[0m\u001b[0;34m)\u001b[0m\u001b[0;34m\u001b[0m\u001b[0;34m\u001b[0m\u001b[0m\n\u001b[0m\u001b[1;32m      8\u001b[0m \u001b[0;34m\u001b[0m\u001b[0m\n\u001b[1;32m      9\u001b[0m \u001b[0mcaps_name\u001b[0m \u001b[0;34m=\u001b[0m \u001b[0mmap\u001b[0m\u001b[0;34m(\u001b[0m\u001b[0muppercase\u001b[0m\u001b[0;34m,\u001b[0m\u001b[0mname_list\u001b[0m\u001b[0;34m)\u001b[0m\u001b[0;34m\u001b[0m\u001b[0;34m\u001b[0m\u001b[0m\n",
            "\u001b[0;31mAttributeError\u001b[0m: 'int' object has no attribute 'upper'"
          ]
        }
      ],
      "source": [
        "caps_name = map(uppercase,numbers)\n",
        "print(list(caps_name))"
      ]
    },
    {
      "cell_type": "markdown",
      "metadata": {
        "id": "ZSWFlSpf4Q9H"
      },
      "source": [
        "Jika fungsi map bisa untuk data String, pastinya filter() pun juga bisa. Cukup siapkan fungsi yang relevan dengan data saja sebagai inputannya."
      ]
    },
    {
      "cell_type": "markdown",
      "metadata": {
        "id": "8Q-ve8UjE_v_"
      },
      "source": [
        "**Menggunakan Map untuk Operasi pada Nested List**\n",
        "\n",
        "<p align=\"justify\"> Setelah mempelajari konsep dasar fungsi map() yang memungkinkan kita menerapkan sebuah fungsi pada setiap elemen dalam suatu list secara efisien, kita dapat melangkah lebih jauh dengan menerapkannya pada nested list. Fungsi map() juga dapat digunakan untuk menerapkan sebuah fungsi ke setiap elemen dari nested list secara fungsional. Perhatikan contoh berikut:"
      ]
    },
    {
      "cell_type": "code",
      "execution_count": null,
      "metadata": {
        "colab": {
          "base_uri": "https://localhost:8080/"
        },
        "id": "mksU9-J1FIFp",
        "outputId": "f4de109b-3070-4f6c-bbfc-e8a816d43893"
      },
      "outputs": [
        {
          "name": "stdout",
          "output_type": "stream",
          "text": [
            "List Asli:  [[0, 1, 2, 3], [4, 5, 6, 7], [8, 9, 10, 11]]\n",
            "Hasil Map : [[0, 2, 4, 6], [8, 10, 12, 14], [16, 18, 20, 22]]\n"
          ]
        }
      ],
      "source": [
        "# Disini kita akan menggunakan fungsi double dan data list matrix dari source code sebelumnya\n",
        "print(\"List Asli: \",matrix2)\n",
        "\n",
        "doubleMatrix = [list(map(double, list_baris)) for list_baris in matrix2]\n",
        "print(\"Hasil Map :\", doubleMatrix)"
      ]
    },
    {
      "cell_type": "markdown",
      "metadata": {
        "id": "HCEo8OFmbwi7"
      },
      "source": [
        "## **3.3 Reduce**"
      ]
    },
    {
      "cell_type": "markdown",
      "metadata": {
        "id": "g8SRMZE0odQD"
      },
      "source": [
        "![Python reduce Function](https://files.realpython.com/media/The-Python-reduce-Function-Guide_Watermarked.c2e2f64a48d2.jpg)\n",
        "\n",
        "<p align=\"justify\"> Fungsi reduce() pada Python adalah fungsi yang mengimplementasikan teknik matematika yang disebut reduksi atau folding (pelipatan). Kita akan mereduksi atau melipat kumpulan data menjadi satu nilai sebagai output dari reduce(). Sedikit berbeda dengan dua fungsi sebelumnya (map dan filter), reduce() bisa menerima tiga argumen. Dua argumen pertama mirip seperti pada map dan filter, yaitu <b>sebuah fungsi dan iterable object/data</b>. Sedangkan argumen ketiga dari reduce adalah opsional. Kita bisa tambahkan ataupun tidak perlu dituliskan dalam penggunaan reduce. Ini akan kita bahas berikutnya.\n",
        "\n",
        "<p align=\"justify\"> Reduce berguna saat kita perlu menerapkan sebuah fungsi ke suatu iterable data dan mereduksinya menjadi satu nilai output. Dengan demikian, maka fungsi yang akan menjadi input argumen reduce harus yang menerima dua argumen untuk dioperasikan (secara aritmatik maupun komparatif) dan mengembalikan satu nilai.\n",
        "\n"
      ]
    },
    {
      "cell_type": "markdown",
      "metadata": {
        "id": "C3W12hDU55uS"
      },
      "source": [
        "<p align=\"justify\"> Argumen yang diperlukan untuk membuat reduce() adalah <b>fungsi dua argumen</b> dan <b>iterable</b>. Fungsi ini akan diaplikasikan ke item yang ada pada iterable untuk dihitung secara aritmatik maupun komparatif menjadi suatu nilai akhir. Argumen kedua yang diperlukan adalah iterable, fungsi reduce dapat menerima semua iterable Python. Termasuk list, tuple, range, object, generator, iterator, set, key dan value dictionary, and segala object Python yang dapat diiterasi.\n",
        "\n",
        "Untuk memahami bagaimana reduce() bekerja, coba perhatikan kode berikut. Pertama, kita harus menyiapkan sebuah fungsi:\n"
      ]
    },
    {
      "cell_type": "code",
      "execution_count": null,
      "metadata": {
        "colab": {
          "base_uri": "https://localhost:8080/"
        },
        "id": "xJkvDuTC57h5",
        "outputId": "9ecc1472-54a4-4749-8592-889f846b70fa"
      },
      "outputs": [
        {
          "output_type": "stream",
          "name": "stdout",
          "text": [
            "10 + 7 = 17\n"
          ]
        },
        {
          "output_type": "execute_result",
          "data": {
            "text/plain": [
              "17"
            ]
          },
          "metadata": {},
          "execution_count": 14
        }
      ],
      "source": [
        "'''\n",
        "desc: Fungsi untuk menghitung jumlah dari a + b\n",
        "pre-cond: a dan b bisa berupa sembarang data\n",
        "post-cond: print out dan hasil dari a+b sebagai return value\n",
        "'''\n",
        "def pertambahan(a, b):\n",
        "  hasil = a + b\n",
        "  print(f\"{a} + {b} = {hasil}\")\n",
        "  return hasil\n",
        "\n",
        "pertambahan(10, 7)"
      ]
    },
    {
      "cell_type": "markdown",
      "metadata": {
        "id": "R0FNSzGK7Yu5"
      },
      "source": [
        "<p align=\"justify\"> pertambahan() adalah fungsi dua argumen, yang akan mengakumulasi dua input menjadi satu hasil. Sehingga fungsi ini cocok untuk dijadikan sebagai argumen dari fungsi reduce. Selanjutnya kita cukup menambahkan sebuah iterable sebagai argumen kedua reduce() untuk dihitung jumlah akumulasi dari semua itemnya.\n"
      ]
    },
    {
      "cell_type": "markdown",
      "metadata": {
        "id": "44VL5nLo4vTe"
      },
      "source": [
        "<p align=\"justify\"> Sebelum menggunakan fungsi reduce, kita perlu menambahkan sebuah module/library tempat reduce berada. Nama module nya adalah functools. Modul Functools diperuntukkan bagi fungsi tingkat tinggi (Higher Order Function) yang bekerja pada fungsi lain. Modul ini menyediakan fungsi untuk bekerja dengan fungsi lain. Salah satunya adalah reduce. Perhatikan cara import modul dan penggunaan reduce pada contoh berikut:"
      ]
    },
    {
      "cell_type": "code",
      "execution_count": null,
      "metadata": {
        "colab": {
          "base_uri": "https://localhost:8080/"
        },
        "id": "ukEbaT2s7YDq",
        "outputId": "727aece4-2fbf-44df-df86-6ba0794be162"
      },
      "outputs": [
        {
          "name": "stdout",
          "output_type": "stream",
          "text": [
            "1 + 3 = 4\n",
            "4 + 5 = 9\n",
            "9 + 7 = 16\n",
            "16\n"
          ]
        }
      ],
      "source": [
        "from functools import reduce\n",
        "\n",
        "angka = [1, 3, 5, 7]\n",
        "hasil = reduce(pertambahan, angka)\n",
        "print(hasil)"
      ]
    },
    {
      "cell_type": "markdown",
      "metadata": {
        "id": "adit46cGAR7a"
      },
      "source": [
        "<p align=\"justify\"> Saat kita memanggil reduce() dengan melempar fungsi pertambahan dan ‘angka’ sebagai argumen, kita akan mendapat output yang menunjukkan semua operasi yang dijalankan reduce() hingga menghasilkan nilai akhir 16. Dalam kasus ini, operasi ini ekuivalen dengan ( ( ( 1 + 3 ) + 5 ) + 7 ) = 16."
      ]
    },
    {
      "cell_type": "markdown",
      "metadata": {
        "id": "0s7OdP5AAT3v"
      },
      "source": [
        "<p align=\"justify\"> Pemanggilan reduce() dalam contoh di atas berlaku pertambahan() untuk dua item pertama dalam ‘angka’ (1 dan 3) kemudian menghasilkan 4 sebagai hasil output. Kemudian reduce() memanggil pertambahan() menggunakan output sebelumnya (4) dan item berikutnya dalam ‘angka’ (yaitu 5) sebagai argumen, menghasilkan 9. Proses ini akan terus berulang hingga jumlah item habis dan reduce() menghasilkan output hasil perhitungan terakhir, yaitu 16."
      ]
    },
    {
      "cell_type": "markdown",
      "metadata": {
        "id": "3M6PacwCD8dS"
      },
      "source": [
        "<p align=\"justify\"> Selain dua argumen (fungsi dan iterable) tadi, seperti yang sudah disebutkan sebelumnya, reduce bisa menerima hingga tiga argumen. <b>Argumen ketiga dalam reduce() adalah initializer</b>. Argumen ini bersifat <b>opsional.</b> Jika kita memberikan sebuah nilai pada initializer ini, maka reduce() akan memasukkannya ke pemanggilan fungsi pertama sebagai argumen pertamanya. Artinya, pemanggilan pertama ke fungsi akan menggunakan nilai initializer dan item pertama dari iterable untuk melakukan komputasi parsial pertamanya. Setelah itu, reduce() terus bekerja dengan item iterable berikutnya."
      ]
    },
    {
      "cell_type": "markdown",
      "metadata": {
        "id": "CcKjjc2V5PDx"
      },
      "source": [
        "Berikut contoh penggunaan reduce dengan initializer diset ke 100, jalankan dan amati hasilnya:"
      ]
    },
    {
      "cell_type": "code",
      "execution_count": null,
      "metadata": {
        "colab": {
          "base_uri": "https://localhost:8080/"
        },
        "id": "QV_FulpCCs-g",
        "outputId": "7d756f6c-1cdc-483c-d918-51d132884c6d"
      },
      "outputs": [
        {
          "name": "stdout",
          "output_type": "stream",
          "text": [
            "100 + 1 = 101\n",
            "101 + 3 = 104\n",
            "104 + 5 = 109\n",
            "109 + 7 = 116\n"
          ]
        },
        {
          "data": {
            "text/plain": [
              "116"
            ]
          },
          "execution_count": 8,
          "metadata": {},
          "output_type": "execute_result"
        }
      ],
      "source": [
        "reduce(pertambahan, angka, 100)"
      ]
    },
    {
      "cell_type": "markdown",
      "metadata": {
        "id": "45ZxODdIGXpX"
      },
      "source": [
        "**Menggunakan Reduce untuk Agregasi Nilai dalam Nested List**\n",
        "\n",
        "<p align=\"justify\">Setelah mempelajari bagaimana fungsi reduce() digunakan untuk melakukan agregasi nilai dari sebuah list menjadi satu hasil akhir, apakah kita juga dapat menerapkannya dalam konteks nested list? Mari kita coba dengan menjalankan kode berikut dan amati hasilnya!"
      ]
    },
    {
      "cell_type": "code",
      "execution_count": null,
      "metadata": {
        "colab": {
          "base_uri": "https://localhost:8080/"
        },
        "id": "UVOkD0fw9HNW",
        "outputId": "32519f30-3c19-4234-ec49-d904bbc238d8"
      },
      "outputs": [
        {
          "name": "stdout",
          "output_type": "stream",
          "text": [
            "[0, 1, 2, 3] + [4, 5, 6, 7] = [0, 1, 2, 3, 4, 5, 6, 7]\n",
            "[0, 1, 2, 3, 4, 5, 6, 7] + [8, 9, 10, 11] = [0, 1, 2, 3, 4, 5, 6, 7, 8, 9, 10, 11]\n",
            "[0, 1, 2, 3, 4, 5, 6, 7, 8, 9, 10, 11]\n"
          ]
        }
      ],
      "source": [
        "print(reduce(pertambahan,matrix2))"
      ]
    },
    {
      "cell_type": "markdown",
      "metadata": {
        "id": "esS8ND7b6wsj"
      },
      "source": [
        "<p align=\"justify\"> Reduce tidak dapat mengakses inner elemen dalam nested iterable/nested list. Reduce hanya akan mengoperasikan fungsi input (pertambahan) kedalam apapun isi dari iterable. Dalam kasus ini, isi dari iterable nested list adalah sebuah list. Maka reduce akan melakukan proses pertambahan dari inner list pertama ([1, 2, 3, 4]) dengan inner list kedua ([5, 6, 7, 8]). Proses pertambahan (+) dalam list sama halnya dengan concatenation pada string. Sehingga menghasilkan gabungan dari dua list menjadi satu (menjadi [1, 2, 3, 4, 5, 6, 7, 8]) dan seterusnya."
      ]
    },
    {
      "cell_type": "markdown",
      "metadata": {
        "id": "ZHCWBxgd6_Bd"
      },
      "source": [
        "<p align=\"justify\"> Bagaimana jika kita ingin menjumlahkan seluruh angka pada ‘matrix’? Maka kita harus menjumlahkan dulu seluruh elemen dalam inner list satu persatu, baru kemudian menjumlahkan kembali hasil penjumlahan dari masing-masing inner list tadi. Sehingga disini kita perlu melakukan dua kali proses reduce. Mulai bingung? Lihat contoh di bawah!"
      ]
    },
    {
      "cell_type": "code",
      "execution_count": null,
      "metadata": {
        "colab": {
          "base_uri": "https://localhost:8080/"
        },
        "id": "hmu6CwvIGfwX",
        "outputId": "59356b56-e861-4cac-9492-134c6fbee582"
      },
      "outputs": [
        {
          "name": "stdout",
          "output_type": "stream",
          "text": [
            "[[0, 1, 2, 3], [4, 5, 6, 7], [8, 9, 10, 11]]\n",
            "First reduce:  [6, 22, 38]\n",
            "Second reduce : 66\n"
          ]
        }
      ],
      "source": [
        "# Buat fungsi baru tanpa print agar lebih sederhana\n",
        "'''\n",
        "desc: Fungsi untuk menghitung jumlah dari x + y\n",
        "pre-cond: x dan y bisa berupa sembarang data\n",
        "post-cond: hasil dari x+y sebagai return value\n",
        "'''\n",
        "def tambah(x, y):\n",
        "  return x+y\n",
        "\n",
        "print(matrix2) # Tampilkan isi matrix terlebih dahulu\n",
        "# Implementasikan reduce pada setiap baris matrix\n",
        "jumlah_elemen = [reduce(tambah, baris) for baris in matrix2]\n",
        "print(\"First reduce: \", jumlah_elemen)\n",
        "\n",
        "# Reduce yang kedua untuk menjumlahkan seluruh jumlah_elemen\n",
        "hasil_akhir = reduce(tambah, jumlah_elemen)\n",
        "print(\"Second reduce :\", hasil_akhir)"
      ]
    },
    {
      "cell_type": "markdown",
      "metadata": {
        "id": "Ez0tRpWr7oQp"
      },
      "source": [
        "<p align=\"justify\"> Secara konsep, kode diatas sangat bisa untuk kita sederhanakan lagi menjadi hanya satu baris kode. Jika memang tujuan kita hanya ingin tahu hasil penjumlahan dari seluruh elemen dalam ‘matrix’. Tanpa perlu memperhatikan bagaimana proses dalam pencapaiannya. Sebagaimana konsep paradigma fungsional seperti itu bukan.. Adakah yang tahu bagaimana caranya? Mari kami tunjukkan satu baris kode untuk mencapai target kita tadi:\n"
      ]
    },
    {
      "cell_type": "code",
      "execution_count": null,
      "metadata": {
        "colab": {
          "base_uri": "https://localhost:8080/"
        },
        "id": "2ZmgvAHmEiM-",
        "outputId": "f17394ee-3375-4692-d0b2-b6b7105b9f06"
      },
      "outputs": [
        {
          "name": "stdout",
          "output_type": "stream",
          "text": [
            "66\n"
          ]
        }
      ],
      "source": [
        "hasil = reduce(tambah, [reduce(tambah, baris) for baris in matrix2])\n",
        "print(hasil)"
      ]
    },
    {
      "cell_type": "markdown",
      "metadata": {
        "id": "Pew9Emeu1Fzr"
      },
      "source": [
        "# **4. Fungsi Rekursif**"
      ]
    },
    {
      "cell_type": "markdown",
      "metadata": {
        "id": "EQfGjGHJYQgY"
      },
      "source": [
        "Perhitungan faktorial seringkali dijadikan contoh untuk membuat fungsi rekursif."
      ]
    },
    {
      "cell_type": "code",
      "execution_count": null,
      "metadata": {
        "colab": {
          "base_uri": "https://localhost:8080/"
        },
        "id": "OBc0XLCsaEyA",
        "outputId": "eb701e70-956b-46da-9ddd-c3a84f16f79b"
      },
      "outputs": [
        {
          "output_type": "stream",
          "name": "stdout",
          "text": [
            "120\n"
          ]
        }
      ],
      "source": [
        "'''\n",
        "desc: fungsi untuk menghitung nilai faktorial dari sebuah angka n\n",
        "pre-cond: input n merupakan sebuah bilangan/number\n",
        "post-cond: nilai faktorial dari n\n",
        "'''\n",
        "def faktorial_rekursif(n):\n",
        "  if n <= 1:\n",
        "    return 1  # Base case\n",
        "  else:\n",
        "    return n * faktorial_rekursif(n - 1)  # Recursive case\n",
        "\n",
        "print(faktorial_rekursif(5))"
      ]
    },
    {
      "cell_type": "markdown",
      "metadata": {
        "id": "GbU6nrlk2Am4"
      },
      "source": [
        "Fungsi rekursif memiliki dua komponen utama:\n",
        "\n",
        "1. <p align=\"justify\"> Base Case: Kondisi yang menentukan kapan rekursi berhenti. Tanpa base case, fungsi rekursif akan memanggil dirinya sendiri tanpa henti, yang menyebabkan stack overflow (kondisi yang terjadi ketika tumpukan (stack) memori program terisi penuh).\n",
        "\n",
        "2. <p align=\"justify\"> Recursive Case: Bagian dari fungsi yang memanggil dirinya sendiri untuk menyelesaikan sub-masalah.\n"
      ]
    },
    {
      "cell_type": "markdown",
      "metadata": {
        "id": "QoiufUj2_O9U"
      },
      "source": [
        "<p align=\"justify\">  Rekursi hampir mirip dengan konsep reduce. Dimana reduce memanggil fungsi yang sama berulang kali untuk mencapai tujuan. Bedanya, rekursif memanggil dirinya sendiri secara berulang, dan bukan fungsi lain.\n",
        "\n",
        "<p align=\"justify\"> Sebenarnya kita bisa menggunakan list comprehension, map, filter, dan reduce untuk menghindari looping secara eksplisit dan menjaga kode agar tetap bersih dan deklaratif. Perhitungan faktorial di atas juga bisa diselesaikan menggunakan fungsi reduce. Apa iya? Ga percaya? Begini caranya:\n"
      ]
    },
    {
      "cell_type": "code",
      "execution_count": null,
      "metadata": {
        "colab": {
          "base_uri": "https://localhost:8080/"
        },
        "id": "GbVsR7YQX9_1",
        "outputId": "ed8d10ec-0462-4f2a-c314-b84591552443"
      },
      "outputs": [
        {
          "name": "stdout",
          "output_type": "stream",
          "text": [
            "120\n"
          ]
        }
      ],
      "source": [
        "'''\n",
        "desc: fungsi untuk menghitung hasil perkalian dari dua argumen a dan b\n",
        "pre-cond: salah satu argumen a/b harus berupa number\n",
        "post-cond: hasil dari a*b sebagai nilai kembalian\n",
        "'''\n",
        "def perkalian(a,b):\n",
        "  return a*b\n",
        "\n",
        "print(reduce(perkalian,range(1,6)))"
      ]
    },
    {
      "cell_type": "markdown",
      "metadata": {
        "id": "j3XF7aI7_c-X"
      },
      "source": [
        "<p align=\"justify\"> Namun, dalam <b>beberapa kasus</b> dimana kita tidak bisa menggunakan teknik-teknik tersebut (misalnya, ketika kita <b>perlu menerapkan logika kompleks atau kondisi yang lebih dari sekadar satu langkah),</b> kita dapat menggunakan fungsi rekursif untuk mencapai tujuan tersebut. Seperti pada logika kasus penyusunan deret fibonacci."
      ]
    },
    {
      "cell_type": "markdown",
      "metadata": {
        "id": "l1R0v0cWpo-c"
      },
      "source": [
        "<p align=\"justify\"> Fibonacci adalah salah satu contoh umum dari masalah yang dapat diselesaikan dengan rekursif. Setiap elemen dalam deret Fibonacci didefinisikan sebagai jumlah dari dua elemen sebelumnya. Pada dasarnya, Fibonacci merupakan fungsi matematika yang dihitung dengan cara rekursif. Sehingga otomatis penyelesaiannya pun seharusnya dengan cara mendefinisikan fungsi rekursif daripada iterasi biasa. Seperti ini caranya untuk mengubah iterasi for menjadi rekursif dalam kasus Fibonacci, amati dan perhatikan dimana perbedaanya:"
      ]
    },
    {
      "cell_type": "code",
      "execution_count": null,
      "metadata": {
        "colab": {
          "base_uri": "https://localhost:8080/"
        },
        "id": "UDU6vJ9PprQU",
        "outputId": "e3b16f54-2a89-4a6d-b026-b3652c647edf"
      },
      "outputs": [
        {
          "name": "stdout",
          "output_type": "stream",
          "text": [
            "Fibonacci series with 10 elements: [0, 1, 1, 2, 3, 5, 8, 13, 21, 34]\n"
          ]
        }
      ],
      "source": [
        "# fungsi untuk menghitung suku ke-n dari baris fibonacci\n",
        "def fibonacci(n):\n",
        "  # Base Case\n",
        "    if n == 0:\n",
        "        return 0\n",
        "    elif n == 1:\n",
        "        return 1\n",
        "    # Recursive Case\n",
        "    else:\n",
        "        return fibonacci(n-1) + fibonacci(n-2)\n",
        "\n",
        "n = 10\n",
        "fib_series = [fibonacci(i) for i in range(n)]\n",
        "print(f'Fibonacci series with {n} elements:', fib_series)"
      ]
    },
    {
      "cell_type": "code",
      "execution_count": null,
      "metadata": {
        "colab": {
          "base_uri": "https://localhost:8080/"
        },
        "id": "qyWP2fKd-keR",
        "outputId": "d368ca4a-e742-4d66-b606-eba326135c06"
      },
      "outputs": [
        {
          "data": {
            "text/plain": [
              "[0, 1, 1, 2, 3, 5, 8, 13, 21, 34]"
            ]
          },
          "execution_count": 2,
          "metadata": {},
          "output_type": "execute_result"
        }
      ],
      "source": [
        "list(map(fibonacci,range(10)))"
      ]
    },
    {
      "cell_type": "code",
      "execution_count": null,
      "metadata": {
        "colab": {
          "base_uri": "https://localhost:8080/"
        },
        "id": "B03z67AG6-jW",
        "outputId": "84194327-ccf0-4829-99c7-a3636477e7c0"
      },
      "outputs": [
        {
          "name": "stdout",
          "output_type": "stream",
          "text": [
            "[0, 1, 1, 2, 3, 5, 8, 13, 21, 34]\n"
          ]
        }
      ],
      "source": [
        "# Fungsi untuk membuat n baris fibonacci (tanpa rekursif)\n",
        "# dengan n adalah angka bulat positif\n",
        "def fibonacci_sequence_loop(n):\n",
        "    if n <= 0:\n",
        "        return []\n",
        "    elif n == 1:\n",
        "        return [0]\n",
        "    elif n == 2:\n",
        "        return [0, 1]\n",
        "\n",
        "    seq = [0, 1]\n",
        "    for i in range(2, n):\n",
        "        seq.append(seq[-1] + seq[-2])\n",
        "    return seq\n",
        "\n",
        "# Contoh penggunaan\n",
        "print(fibonacci_sequence_loop(n))  # Menghasilkan 10 angka pertama"
      ]
    },
    {
      "cell_type": "code",
      "execution_count": null,
      "metadata": {
        "colab": {
          "base_uri": "https://localhost:8080/"
        },
        "id": "J7PDgQkM8PbJ",
        "outputId": "c419400f-bd63-4bc7-d9c8-04bb10933cd7"
      },
      "outputs": [
        {
          "name": "stdout",
          "output_type": "stream",
          "text": [
            "[0, 1, 1, 2, 3, 5, 8, 13, 21, 34]\n"
          ]
        }
      ],
      "source": [
        "# fungsi untuk membuat n deret fibonaci dengan rekursif\n",
        "# dengan n adalah angka bulat positif\n",
        "def fibonacci_recursive(n):\n",
        "    if n <= 0:\n",
        "        return []\n",
        "    elif n == 1:\n",
        "        return [0]\n",
        "    elif n == 2:\n",
        "        return [0, 1]\n",
        "    else:\n",
        "      seq = fibonacci_recursive(n-1)\n",
        "      return seq + [seq[-1]+seq[-2]]\n",
        "\n",
        "print(fibonacci_recursive(n))"
      ]
    },
    {
      "cell_type": "markdown",
      "metadata": {
        "id": "FFbTcfmgszYv"
      },
      "source": [
        "<p align=\"justify\"> Meskipun looping dalam bentuk tradisional tidak diterapkan dalam pemrograman fungsional. Serta tidak semua persoalan bisa diselesaikan dengan beberapa teknik yang ada (seperti list comprehension, map, filter, dan reduce). Fungsi rekursi adalah satu teknik yang bisa kita gunakan dalam menyusun program secara fungsional. Hal ini membantu menjaga konsistensi dengan prinsip-prinsip pemrograman fungsional dan meminimalkan perubahan state dalam program."
      ]
    },
    {
      "cell_type": "markdown",
      "metadata": {
        "id": "Ls7KDmjvNjV7"
      },
      "source": [
        "# **CODELAB**"
      ]
    },
    {
      "cell_type": "markdown",
      "metadata": {
        "id": "rcpwx8gsZH2Z"
      },
      "source": [
        "## **CODELAB 1**"
      ]
    },
    {
      "cell_type": "markdown",
      "metadata": {
        "id": "6jzJv9HyNBT7"
      },
      "source": [
        "Buatlah sebuah fungsi ‘create_board’ yang menerima dua parameter: width dan height. Fungsi ini akan mengembalikan sebuah nested list yang merepresentasikan sebuah papan catur dengan pola tertentu (dengan mapping) berukuran sesuai dengan width dan height. Pola ini bisa disesuaikan dengan keinginan masing-masing!"
      ]
    },
    {
      "cell_type": "markdown",
      "metadata": {
        "id": "iEAxuX0DfjMu"
      },
      "source": [
        "Contoh Output:"
      ]
    },
    {
      "cell_type": "markdown",
      "metadata": {
        "id": "mr7fzoGTfa6X"
      },
      "source": [
        "\n",
        "\n",
        "```\n",
        "[['o', 'x', 'o', 'x', 'o'],\n",
        " ['x', 'o', 'x', 'o', 'x'],\n",
        " ['o', 'x', 'o', 'x', 'o'],\n",
        " ['x', 'o', 'x', 'o', 'x'],\n",
        " ['o', 'x', 'o', 'x', 'o']]\n",
        "```\n",
        "\n"
      ]
    },
    {
      "cell_type": "code",
      "source": [
        "def create_board(width, height):\n",
        "    board = []\n",
        "    for row in range(height):\n",
        "        board_row = []\n",
        "        for col in range(width):\n",
        "            # Pola dengan 'o' dan 'x' bergantian\n",
        "            if (row + col) % 2 == 0:\n",
        "                board_row.append('o')\n",
        "            else:\n",
        "                board_row.append('x')\n",
        "        board.append(board_row)\n",
        "    return board\n",
        "\n",
        "# Contoh penggunaan:\n",
        "width = 5\n",
        "height = 5\n",
        "board = create_board(width, height)\n",
        "\n",
        "# Menampilkan papan\n",
        "for row in board:\n",
        "    print(row)\n"
      ],
      "metadata": {
        "colab": {
          "base_uri": "https://localhost:8080/"
        },
        "id": "vJjKJ4I6hpyk",
        "outputId": "53bab9d3-146f-4b7d-8618-0996eccc5e02"
      },
      "execution_count": 19,
      "outputs": [
        {
          "output_type": "stream",
          "name": "stdout",
          "text": [
            "['o', 'x', 'o', 'x', 'o']\n",
            "['x', 'o', 'x', 'o', 'x']\n",
            "['o', 'x', 'o', 'x', 'o']\n",
            "['x', 'o', 'x', 'o', 'x']\n",
            "['o', 'x', 'o', 'x', 'o']\n"
          ]
        }
      ]
    },
    {
      "cell_type": "markdown",
      "metadata": {
        "id": "GsUNhTGofnIA"
      },
      "source": [
        "Setelah membuat fungsi ‘create_board’, buatlah fungsi ‘chessboard’ yang menerima parameter nested list dari kode sebelumnya dan mengubah setiap pola yang ada menjadi pola lain yang berbeda!"
      ]
    },
    {
      "cell_type": "markdown",
      "metadata": {
        "id": "p3TJjY67fraq"
      },
      "source": [
        "Contoh kode:"
      ]
    },
    {
      "cell_type": "markdown",
      "metadata": {
        "id": "3wKyAxw9foKy"
      },
      "source": [
        "\n",
        "\n",
        "```\n",
        "[['#', '+', '#', '+', '#'],\n",
        " ['+', '#', '+', '#', '+'],\n",
        " ['#', '+', '#', '+', '#'],\n",
        " ['+', '#', '+', '#', '+'],\n",
        " ['#', '+', '#', '+', '#']]\n",
        "```\n",
        "\n"
      ]
    },
    {
      "cell_type": "code",
      "source": [
        "def create_board(width, height):\n",
        "    board = []\n",
        "    for row in range(height):\n",
        "        board_row = []\n",
        "        for col in range(width):\n",
        "            # Pola dengan 'o' dan 'x' bergantian\n",
        "            if (row + col) % 2 == 0:\n",
        "                board_row.append('o')\n",
        "            else:\n",
        "                board_row.append('x')\n",
        "        board.append(board_row)\n",
        "    return board\n",
        "\n",
        "# Fungsi untuk mengubah pola pada papan\n",
        "def chessboard(board):\n",
        "    new_board = []\n",
        "    for row in board:\n",
        "        new_row = []\n",
        "        for cell in row:\n",
        "            # Ubah 'o' menjadi '#' dan 'x' menjadi '+'\n",
        "            if cell == 'o':\n",
        "                new_row.append('#')\n",
        "            elif cell == 'x':\n",
        "                new_row.append('+')\n",
        "        new_board.append(new_row)\n",
        "    return new_board\n",
        "\n",
        "# Contoh penggunaan\n",
        "width = 5\n",
        "height = 5\n",
        "board = create_board(width, height)\n",
        "\n",
        "# Mengubah pola papan\n",
        "new_board = chessboard(board)\n",
        "\n",
        "# Menampilkan papan setelah diubah saja\n",
        "for row in new_board:\n",
        "    print(row)\n"
      ],
      "metadata": {
        "colab": {
          "base_uri": "https://localhost:8080/"
        },
        "id": "JzBUkRrdltfD",
        "outputId": "160ad704-43af-4988-d1d1-2dbec9938d63"
      },
      "execution_count": 21,
      "outputs": [
        {
          "output_type": "stream",
          "name": "stdout",
          "text": [
            "['#', '+', '#', '+', '#']\n",
            "['+', '#', '+', '#', '+']\n",
            "['#', '+', '#', '+', '#']\n",
            "['+', '#', '+', '#', '+']\n",
            "['#', '+', '#', '+', '#']\n"
          ]
        }
      ]
    },
    {
      "cell_type": "markdown",
      "metadata": {
        "id": "rVqwRFbUqg2y"
      },
      "source": [
        "## **CODELAB 2**"
      ]
    },
    {
      "cell_type": "markdown",
      "metadata": {
        "id": "UDFN50ONqkev"
      },
      "source": [
        "Diketahui data buku sebagai berikut:\n"
      ]
    },
    {
      "cell_type": "code",
      "execution_count": 6,
      "metadata": {
        "id": "mN3EENdgqykQ"
      },
      "outputs": [],
      "source": [
        "books = [\n",
        "    {'judul':'Pulang', 'penulis': 'Tere Liye', 'halaman': 400},\n",
        "    {'judul':'Kapan Nanti', 'penulis': 'Ziggy Z.', 'halaman': 142},\n",
        "    {'judul':'Namaku Alam', 'penulis': 'Leila S. Chudori', 'halaman': 448},\n",
        "    {'judul':'Origin', 'penulis': 'Dan Brown', 'halaman': 511},\n",
        "    {'judul':'Rumah Lebah', 'penulis': 'Ruwi Meita', 'halaman': 288},\n",
        "    {'judul':'Kubah', 'penulis': 'Ahmad Tohari', 'halaman': 184},\n",
        "    {'judul':'Dompet Ayah Sepatu Ibu', 'penulis': 'J. S. Khairen', 'halaman': 210},\n",
        "]"
      ]
    },
    {
      "cell_type": "markdown",
      "metadata": {
        "id": "rhqDb_0Zszxu"
      },
      "source": [
        "1. Buatlah sebuah fungsi ‘book_filter’ yang menerima sebuah fungsi sebagai argumen dan mengembalikan daftar buku yang memenuhi kriteria buku berawalan huruf ‘K’ menggunakan list comprehension."
      ]
    },
    {
      "cell_type": "code",
      "execution_count": 13,
      "metadata": {
        "id": "SnSvu2lWQb-q",
        "colab": {
          "base_uri": "https://localhost:8080/"
        },
        "outputId": "33f396ed-3399-4635-ef9a-c7080acb7978"
      },
      "outputs": [
        {
          "output_type": "stream",
          "name": "stdout",
          "text": [
            "Buku yang judulnya diawali dengan huruf 'K':\n",
            "Judul: Kapan Nanti, Penulis: Ziggy Z., Halaman: 142\n",
            "Judul: Kubah, Penulis: Ahmad Tohari, Halaman: 184\n"
          ]
        }
      ],
      "source": [
        "# TODO 1: Gunakan list comprehension untuk menyaring buku dari books yang judulnya diawali dengan huruf 'K'\n",
        "filtered_books = [book for book in books if book['judul'].startswith('K')]\n",
        "\n",
        "# TODO 2: Cetak hasil buku yang tersaring\n",
        "print(\"Buku yang judulnya diawali dengan huruf 'K':\")\n",
        "\n",
        "# TODO 3: Gunakan loop untuk iterasi setiap buku di filtered_books\n",
        "# TODO 4: Di dalam loop, cetak detail buku berupa judul, penulis, dan halaman\n",
        "for book in filtered_books:\n",
        "    print(f\"Judul: {book['judul']}, Penulis: {book['penulis']}, Halaman: {book['halaman']}\")"
      ]
    },
    {
      "cell_type": "markdown",
      "metadata": {
        "id": "jFC0VBDgu8TW"
      },
      "source": [
        "2. Buat daftar baru yang berisi hanya judul buku saja menggunakan fungsi map()"
      ]
    },
    {
      "cell_type": "code",
      "execution_count": 14,
      "metadata": {
        "id": "1EshZBWvR-FF",
        "colab": {
          "base_uri": "https://localhost:8080/"
        },
        "outputId": "031a81ec-47ab-4ff0-9d73-721cdf89f7b7"
      },
      "outputs": [
        {
          "output_type": "stream",
          "name": "stdout",
          "text": [
            "Daftar Judul Buku:\n",
            "Pulang\n",
            "Kapan Nanti\n",
            "Namaku Alam\n",
            "Origin\n",
            "Rumah Lebah\n",
            "Kubah\n",
            "Dompet Ayah Sepatu Ibu\n"
          ]
        }
      ],
      "source": [
        "# TODO 1: Definisikan fungsi untuk mendapatkan judul buku\n",
        "def judul_buku(book):\n",
        "    return book['judul']  # TODO 2: Mengembalikan judul buku\n",
        "\n",
        "# TODO 3: Gunakan `map` untuk mendapatkan semua judul buku\n",
        "judul_buku_list = map(judul_buku, books)\n",
        "\n",
        "# TODO 4: Cetak judul buku dan gunakan loop untuk iterasi melalui hasil judul_buku\n",
        "print(\"Daftar Judul Buku:\")\n",
        "for judul in judul_buku_list:\n",
        "    print(judul)"
      ]
    },
    {
      "cell_type": "markdown",
      "metadata": {
        "id": "MyzkwNApvhQL"
      },
      "source": [
        "3. Buat daftar buku dengan halaman lebih dari 200 menggunakan fungsi filter()"
      ]
    },
    {
      "cell_type": "code",
      "execution_count": 15,
      "metadata": {
        "id": "ksVwUy-xWjyK",
        "colab": {
          "base_uri": "https://localhost:8080/"
        },
        "outputId": "289c954a-4753-49e2-b535-792a776c9f5a"
      },
      "outputs": [
        {
          "output_type": "stream",
          "name": "stdout",
          "text": [
            "Buku dengan lebih dari 200 halaman:\n",
            "Judul: Pulang, Penulis: Tere Liye, Halaman: 400\n",
            "Judul: Namaku Alam, Penulis: Leila S. Chudori, Halaman: 448\n",
            "Judul: Origin, Penulis: Dan Brown, Halaman: 511\n",
            "Judul: Rumah Lebah, Penulis: Ruwi Meita, Halaman: 288\n",
            "Judul: Dompet Ayah Sepatu Ibu, Penulis: J. S. Khairen, Halaman: 210\n"
          ]
        }
      ],
      "source": [
        "# TODO 1: Definisikan fungsi untuk memeriksa jumlah halaman\n",
        "def lebih_200(book):\n",
        "    return book['halaman'] > 200  # TODO 2: Mengembalikan True jika halaman > 200\n",
        "\n",
        "# TODO 3: Gunakan filter untuk menyaring buku\n",
        "books_200 = filter(lebih_200, books)\n",
        "\n",
        "# TODO 4: Cetak hasil, gunakan loop untuk iterasi melalui hasil books_200\n",
        "print(\"Buku dengan lebih dari 200 halaman:\")\n",
        "for book in books_200:\n",
        "    print(f\"Judul: {book['judul']}, Penulis: {book['penulis']}, Halaman: {book['halaman']}\")"
      ]
    },
    {
      "cell_type": "markdown",
      "metadata": {
        "id": "0qcRdxcVwTHc"
      },
      "source": [
        "4. Hitunglah total jumlah halaman semua buku menggunakan fungsi reduce"
      ]
    },
    {
      "cell_type": "code",
      "execution_count": 16,
      "metadata": {
        "id": "mdmfAE6aXTyY",
        "colab": {
          "base_uri": "https://localhost:8080/"
        },
        "outputId": "feba8411-e29d-47e4-c5ab-dd9df1bc0ad7"
      },
      "outputs": [
        {
          "output_type": "stream",
          "name": "stdout",
          "text": [
            "Total jumlah halaman dari semua buku: 2183\n"
          ]
        }
      ],
      "source": [
        "# TODO 1, Import modul yang diperlukan\n",
        "from functools import reduce\n",
        "# TODO 2: Definisikan fungsi untuk menghitung total halaman\n",
        "def hitung_halaman(total, book):\n",
        "    return total + book['halaman']  # TODO 3: Tambahkan halaman buku ke total\n",
        "\n",
        "# TODO 4: Gunakan reduce untuk menghitung total halaman\n",
        "total_halaman = reduce(hitung_halaman, books, 0)\n",
        "\n",
        "# TODO 5: Cetak total halaman\n",
        "print(f\"Total jumlah halaman dari semua buku: {total_halaman}\")"
      ]
    },
    {
      "cell_type": "markdown",
      "metadata": {
        "id": "zjdAxXnBVFCA"
      },
      "source": [
        "# **TUGAS PRAKTIKUM**"
      ]
    },
    {
      "cell_type": "markdown",
      "metadata": {
        "id": "u3ix9VvSfw-H"
      },
      "source": [
        "##**TUGAS 1**"
      ]
    },
    {
      "cell_type": "markdown",
      "metadata": {
        "id": "zh8FjBe6fyVU"
      },
      "source": [
        "Buatlah sebuah fungsi rekursif untuk menghitung jumlah dari deret aritmatika hingga suku ke-n, di mana suku pertama adalah a dan beda (selisih antar suku) adalah d dan diketahui:\n",
        "\n",
        "a = 2\n",
        "\n",
        "d = 3\n",
        "\n",
        "n = 5"
      ]
    },
    {
      "cell_type": "markdown",
      "metadata": {
        "id": "aKDFD6nCf_Y9"
      },
      "source": [
        "\n",
        "\n",
        "```\n",
        "Rumus :\n",
        "Sn = 1/2 n (2a + (n - 1) d)\n",
        "\n",
        "```\n",
        "\n"
      ]
    },
    {
      "cell_type": "markdown",
      "metadata": {
        "id": "QYB2Ep4lNF6f"
      },
      "source": [
        "##**TUGAS 2 (LIVE CODING)**"
      ]
    },
    {
      "cell_type": "markdown",
      "metadata": {
        "id": "NiEhxksQNIBn"
      },
      "source": [
        "Disini tugas kalian adalah melanjutkan tugas modul 1 dan 2 sebelumnya dengan mengimplementasikan materi modul 3 pada project tugas kalian tersebut. Asisten akan memandu dan memberikan tugas terkait list comprehension, map, filter, reduce dan rekursif sesuai dengan data dan fungsi-fungsi yang kalian miliki dari tugas modul sebelumnya untuk dapat kalian kerjakan secara live code.\n",
        "\n",
        "Pengerjaan tugas ini bergantung pada pemahaman dan kreativitas kalian. Yang tentunya tidak boleh identik dengan praktikan lain!\n",
        "\n",
        "*) Dilarang menggunakan lambda. Gunakan pure function serta implementasi fungsi deklaratif menjadi nilai tambah."
      ]
    },
    {
      "cell_type": "markdown",
      "metadata": {
        "id": "hX377kTPii9P"
      },
      "source": [
        "# KRITERIA & DETAIL PENILAIAN\n",
        "\n",
        "\n",
        "| Codelab | POIN  | Program identik|  \n",
        "|---------|---------|---|\n",
        "| Codelab 1, 2, & 3 masing-masing 5 poin | 10| 7 |\n",
        "\n",
        "<br>\n",
        "\n",
        "| Tugas | Keterangan | POIN  | Program identik|  \n",
        "|---------|---------|---|--|\n",
        "| Tugas 1 | Pemahaman | 20 | 10 |\n",
        "| -- | Code/Kelengkapan Fitur (pure & deklaratif) | 5 | 3 |\n",
        "\n",
        "<br>\n",
        "\n",
        "| Tugas | Keterangan | POIN  | Program identik|  \n",
        "|---------|---------|---|--|\n",
        "| Tugas 2 | Pemahaman | 20 | 10 |\n",
        "| -- | Code/Kelengkapan Fitur (pure & deklaratif) | 5 | 3 |\n",
        "\n",
        "<br>\n",
        "\n",
        "| Tugas | Keterangan | POIN  | Program identik|  \n",
        "|---------|---------|---|--|\n",
        "| Tugas 3 | Pemahaman | 20 | 10 |\n",
        "| -- | Code/Kelengkapan Fitur (pure & deklaratif) | 20 | 10 |\n",
        "\n",
        "<br>\n",
        "\n",
        "| Total Poin Maksimal | 100 |\n",
        "|--| -- |\n",
        "\n",
        "<br>\n",
        "\n",
        "| Total Poin Maksimal Program Identik | 53|\n",
        "|--| -- |\n",
        "\n",
        "\n",
        "\n",
        ">Tugas dibedakan antara nilai Pemahaman dan\n",
        "Code/Kelengkapan Fitur (pure & deklaratif) - cek dokumen modul untuk lebih detilnya!\n",
        "\n",
        "\\*)Note: Program Identik berarti program sama persis dengan praktikan lain sehingga yang dinilai hanya pemahaman terhadap materi (code tidak mendapat bobot nilai sama sekali).\n",
        "\n",
        "\\**)Poin diatas merupakan poin maksimal yang bisa diperoleh. Asisten bisa memberikan nilai dibawah itu jika dirasa praktikan tidak maksimal saat demo (kurangnya pemahaman tentang apa yang di demokan).\n"
      ]
    },
    {
      "cell_type": "code",
      "execution_count": null,
      "metadata": {
        "id": "kFOvccHXlVAk"
      },
      "outputs": [],
      "source": [
        "# Print out hasil chalenge\n",
        "print(\"Data list asli (tanpa filter):\\n\\t\", matrix2)\n",
        "\n",
        "# Chalenge matrix 3 baris 4 kolom\n",
        "# Didefinisikan baris dan kolom sesuai ukuran matrix\n",
        "baris = 3\n",
        "kolom = 4\n",
        "matrix2 =[ [] for x in ...]"
      ]
    }
  ],
  "metadata": {
    "colab": {
      "provenance": [],
      "include_colab_link": true
    },
    "kernelspec": {
      "display_name": "Python 3",
      "name": "python3"
    },
    "language_info": {
      "name": "python"
    }
  },
  "nbformat": 4,
  "nbformat_minor": 0
}